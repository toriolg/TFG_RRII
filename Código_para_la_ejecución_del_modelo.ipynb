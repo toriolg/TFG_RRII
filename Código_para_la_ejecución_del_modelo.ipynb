{
  "nbformat": 4,
  "nbformat_minor": 0,
  "metadata": {
    "colab": {
      "provenance": []
    },
    "kernelspec": {
      "name": "python3",
      "display_name": "Python 3"
    },
    "language_info": {
      "name": "python"
    }
  },
  "cells": [
    {
      "cell_type": "markdown",
      "source": [
        "## **Código para la ejecución del modelo**"
      ],
      "metadata": {
        "id": "rfkAq8-Lsfre"
      }
    },
    {
      "cell_type": "code",
      "source": [
        "import pandas as pd\n",
        "import statsmodels.api as sm\n",
        "import seaborn as sns\n",
        "import matplotlib.pyplot as plt\n",
        "\n",
        "# Carga de datos\n",
        "file_path = \"BBDD Modelo RRII v2.xlsx\"\n",
        "df = pd.read_excel(file_path, sheet_name=\"BBDD\")\n",
        "\n",
        "# Renombrar columnas\n",
        "df = df.rename(columns={\n",
        "    \"%Var. PIB\": \"Crecimiento\",\n",
        "    \"CO2 emissions (t)\": \"Emisiones\",\n",
        "    \"Share of renewable energy in gross final energy consumption by sector (%)\": \"Renovables\",\n",
        "    \"Industry (including construction), value added (% of GDP)\": \"Industria\",\n",
        "    \"Services, value added (% of GDP)\": \"Servicios\"\n",
        "})\n",
        "\n",
        "# Filtrar y limpiar\n",
        "df = df[[\"Año\", \"País\", \"Crecimiento\", \"Emisiones\", \"Renovables\", \"Industria\", \"Servicios\"]]\n",
        "df = df.replace(\"-\", pd.NA).dropna()\n",
        "\n",
        "# Conversión de tipos\n",
        "for col in [\"Crecimiento\", \"Emisiones\", \"Renovables\", \"Industria\", \"Servicios\"]:\n",
        "    df[col] = pd.to_numeric(df[col], errors=\"coerce\")\n",
        "df = df.dropna()\n",
        "\n",
        "# Definir variables\n",
        "X = df[[\"Emisiones\", \"Renovables\", \"Industria\", \"Servicios\"]]\n",
        "y = df[\"Crecimiento\"]\n",
        "X = sm.add_constant(X)\n",
        "\n",
        "# Ajustar modelo\n",
        "model = sm.OLS(y, X).fit()\n",
        "print(model.summary())"
      ],
      "metadata": {
        "colab": {
          "base_uri": "https://localhost:8080/"
        },
        "id": "wP8sCk0mHTDK",
        "outputId": "92b8f870-a133-40b5-d921-20fc0f8336a4"
      },
      "execution_count": 1,
      "outputs": [
        {
          "output_type": "stream",
          "name": "stdout",
          "text": [
            "                            OLS Regression Results                            \n",
            "==============================================================================\n",
            "Dep. Variable:            Crecimiento   R-squared:                       0.156\n",
            "Model:                            OLS   Adj. R-squared:                  0.111\n",
            "Method:                 Least Squares   F-statistic:                     3.462\n",
            "Date:                Sun, 15 Jun 2025   Prob (F-statistic):             0.0119\n",
            "Time:                        06:55:46   Log-Likelihood:                 176.99\n",
            "No. Observations:                  80   AIC:                            -344.0\n",
            "Df Residuals:                      75   BIC:                            -332.1\n",
            "Df Model:                           4                                         \n",
            "Covariance Type:            nonrobust                                         \n",
            "==============================================================================\n",
            "                 coef    std err          t      P>|t|      [0.025      0.975]\n",
            "------------------------------------------------------------------------------\n",
            "const          1.3267      0.365      3.639      0.001       0.600       2.053\n",
            "Emisiones  -2.462e-12   2.05e-11     -0.120      0.905   -4.33e-11    3.84e-11\n",
            "Renovables  9.884e-05      0.001      0.167      0.868      -0.001       0.001\n",
            "Industria     -0.0132      0.004     -3.316      0.001      -0.021      -0.005\n",
            "Servicios     -0.0154      0.004     -3.616      0.001      -0.024      -0.007\n",
            "==============================================================================\n",
            "Omnibus:                       43.209   Durbin-Watson:                   2.210\n",
            "Prob(Omnibus):                  0.000   Jarque-Bera (JB):              139.889\n",
            "Skew:                          -1.728   Prob(JB):                     4.20e-31\n",
            "Kurtosis:                       8.480   Cond. No.                     5.44e+10\n",
            "==============================================================================\n",
            "\n",
            "Notes:\n",
            "[1] Standard Errors assume that the covariance matrix of the errors is correctly specified.\n",
            "[2] The condition number is large, 5.44e+10. This might indicate that there are\n",
            "strong multicollinearity or other numerical problems.\n"
          ]
        }
      ]
    }
  ]
}